{
  "nbformat": 4,
  "nbformat_minor": 0,
  "metadata": {
    "colab": {
      "name": "Inclass_competition_MNIST_fashion",
      "provenance": [],
      "toc_visible": true,
      "authorship_tag": "ABX9TyPM6ghk+vu04Drq1zfqmTrw",
      "include_colab_link": true
    },
    "kernelspec": {
      "display_name": "Python 3",
      "name": "python3"
    },
    "language_info": {
      "name": "python"
    },
    "accelerator": "TPU"
  },
  "cells": [
    {
      "cell_type": "markdown",
      "metadata": {
        "id": "view-in-github",
        "colab_type": "text"
      },
      "source": [
        "<a href=\"https://colab.research.google.com/github/Andreylive/Fashion-MNIST-classification/blob/main/Inclass_competition_MNIST_fashion.ipynb\" target=\"_parent\"><img src=\"https://colab.research.google.com/assets/colab-badge.svg\" alt=\"Open In Colab\"/></a>"
      ]
    },
    {
      "cell_type": "markdown",
      "metadata": {
        "id": "svbmRHcWaCv3"
      },
      "source": [
        ""
      ]
    },
    {
      "cell_type": "code",
      "metadata": {
        "id": "UIcNPY_RagJa"
      },
      "source": [
        ""
      ],
      "execution_count": 26,
      "outputs": []
    },
    {
      "cell_type": "markdown",
      "metadata": {
        "id": "R-_Gj5KCFccO"
      },
      "source": [
        "# Импортируем необходимые пакеты"
      ]
    },
    {
      "cell_type": "code",
      "metadata": {
        "id": "qlXvO4y2Frac"
      },
      "source": [
        "import pandas as pd\n",
        "import numpy as np\n",
        "\n",
        "from sklearn.neighbors import KNeighborsClassifier\n",
        "from sklearn.neural_network import MLPClassifier\n",
        "from sklearn.svm import SVC\n",
        "from sklearn.tree import DecisionTreeClassifier\n",
        "from sklearn.ensemble import RandomForestClassifier, GradientBoostingClassifier\n",
        "\n",
        "from sklearn.model_selection import train_test_split\n",
        "from sklearn.preprocessing import StandardScaler\n",
        "\n",
        "from sklearn.metrics import accuracy_score, classification_report\n",
        "\n",
        "import matplotlib.pyplot as plt\n",
        "%matplotlib inline"
      ],
      "execution_count": 14,
      "outputs": []
    },
    {
      "cell_type": "code",
      "metadata": {
        "colab": {
          "base_uri": "https://localhost:8080/"
        },
        "id": "VXh-rcNzqCia",
        "outputId": "dcb4d759-4446-48b1-baee-3fb1a2bf329e"
      },
      "source": [
        "import tensorflow as tf\n",
        "from tensorflow import keras\n",
        "from tensorflow.keras.layers import Dense\n",
        "from tensorflow.keras.models import Sequential\n",
        "from tensorflow.keras.backend import clear_session\n",
        "\n",
        "import keras\n",
        "from keras.models import Sequential\n",
        "from keras.layers import Dense\n",
        "\n",
        "print(tf.__version__)"
      ],
      "execution_count": 12,
      "outputs": [
        {
          "output_type": "stream",
          "text": [
            "2.4.1\n"
          ],
          "name": "stdout"
        }
      ]
    },
    {
      "cell_type": "code",
      "metadata": {
        "colab": {
          "base_uri": "https://localhost:8080/"
        },
        "id": "_rgntchlqUsl",
        "outputId": "4683f1f3-88b3-4220-d0e5-24b3c27c3ff3"
      },
      "source": [
        "import keras\n",
        "import keras.models as M\n",
        "import keras.layers as L\n",
        "import keras.backend as K\n",
        "print(keras.__version__)"
      ],
      "execution_count": 13,
      "outputs": [
        {
          "output_type": "stream",
          "text": [
            "2.4.3\n"
          ],
          "name": "stdout"
        }
      ]
    },
    {
      "cell_type": "markdown",
      "metadata": {
        "id": "ROw7jkIoF4aU"
      },
      "source": [
        "# Загрузим и подготовим датасет"
      ]
    },
    {
      "cell_type": "code",
      "metadata": {
        "id": "DtKuG9GKF7wH"
      },
      "source": [
        "train_raw = pd.read_csv('/content/fmnist_train.csv', sep=\",\")\n",
        "test_raw = pd.read_csv('/content/fmnist_test.csv', sep=',')"
      ],
      "execution_count": 4,
      "outputs": []
    },
    {
      "cell_type": "code",
      "metadata": {
        "colab": {
          "base_uri": "https://localhost:8080/",
          "height": 0
        },
        "id": "zQ_h7_xbLP2v",
        "outputId": "ef956b53-82c1-4053-9e12-b5b4eefd5fac"
      },
      "source": [
        "train_raw.head(3)"
      ],
      "execution_count": 5,
      "outputs": [
        {
          "output_type": "execute_result",
          "data": {
            "text/html": [
              "<div>\n",
              "<style scoped>\n",
              "    .dataframe tbody tr th:only-of-type {\n",
              "        vertical-align: middle;\n",
              "    }\n",
              "\n",
              "    .dataframe tbody tr th {\n",
              "        vertical-align: top;\n",
              "    }\n",
              "\n",
              "    .dataframe thead th {\n",
              "        text-align: right;\n",
              "    }\n",
              "</style>\n",
              "<table border=\"1\" class=\"dataframe\">\n",
              "  <thead>\n",
              "    <tr style=\"text-align: right;\">\n",
              "      <th></th>\n",
              "      <th>label</th>\n",
              "      <th>pixel1</th>\n",
              "      <th>pixel2</th>\n",
              "      <th>pixel3</th>\n",
              "      <th>pixel4</th>\n",
              "      <th>pixel5</th>\n",
              "      <th>pixel6</th>\n",
              "      <th>pixel7</th>\n",
              "      <th>pixel8</th>\n",
              "      <th>pixel9</th>\n",
              "      <th>pixel10</th>\n",
              "      <th>pixel11</th>\n",
              "      <th>pixel12</th>\n",
              "      <th>pixel13</th>\n",
              "      <th>pixel14</th>\n",
              "      <th>pixel15</th>\n",
              "      <th>pixel16</th>\n",
              "      <th>pixel17</th>\n",
              "      <th>pixel18</th>\n",
              "      <th>pixel19</th>\n",
              "      <th>pixel20</th>\n",
              "      <th>pixel21</th>\n",
              "      <th>pixel22</th>\n",
              "      <th>pixel23</th>\n",
              "      <th>pixel24</th>\n",
              "      <th>pixel25</th>\n",
              "      <th>pixel26</th>\n",
              "      <th>pixel27</th>\n",
              "      <th>pixel28</th>\n",
              "      <th>pixel29</th>\n",
              "      <th>pixel30</th>\n",
              "      <th>pixel31</th>\n",
              "      <th>pixel32</th>\n",
              "      <th>pixel33</th>\n",
              "      <th>pixel34</th>\n",
              "      <th>pixel35</th>\n",
              "      <th>pixel36</th>\n",
              "      <th>pixel37</th>\n",
              "      <th>pixel38</th>\n",
              "      <th>pixel39</th>\n",
              "      <th>...</th>\n",
              "      <th>pixel746</th>\n",
              "      <th>pixel747</th>\n",
              "      <th>pixel748</th>\n",
              "      <th>pixel749</th>\n",
              "      <th>pixel750</th>\n",
              "      <th>pixel751</th>\n",
              "      <th>pixel752</th>\n",
              "      <th>pixel753</th>\n",
              "      <th>pixel754</th>\n",
              "      <th>pixel755</th>\n",
              "      <th>pixel756</th>\n",
              "      <th>pixel757</th>\n",
              "      <th>pixel758</th>\n",
              "      <th>pixel759</th>\n",
              "      <th>pixel760</th>\n",
              "      <th>pixel761</th>\n",
              "      <th>pixel762</th>\n",
              "      <th>pixel763</th>\n",
              "      <th>pixel764</th>\n",
              "      <th>pixel765</th>\n",
              "      <th>pixel766</th>\n",
              "      <th>pixel767</th>\n",
              "      <th>pixel768</th>\n",
              "      <th>pixel769</th>\n",
              "      <th>pixel770</th>\n",
              "      <th>pixel771</th>\n",
              "      <th>pixel772</th>\n",
              "      <th>pixel773</th>\n",
              "      <th>pixel774</th>\n",
              "      <th>pixel775</th>\n",
              "      <th>pixel776</th>\n",
              "      <th>pixel777</th>\n",
              "      <th>pixel778</th>\n",
              "      <th>pixel779</th>\n",
              "      <th>pixel780</th>\n",
              "      <th>pixel781</th>\n",
              "      <th>pixel782</th>\n",
              "      <th>pixel783</th>\n",
              "      <th>pixel784</th>\n",
              "      <th>Id</th>\n",
              "    </tr>\n",
              "  </thead>\n",
              "  <tbody>\n",
              "    <tr>\n",
              "      <th>0</th>\n",
              "      <td>2</td>\n",
              "      <td>0</td>\n",
              "      <td>0</td>\n",
              "      <td>0</td>\n",
              "      <td>0</td>\n",
              "      <td>0</td>\n",
              "      <td>0</td>\n",
              "      <td>0</td>\n",
              "      <td>0</td>\n",
              "      <td>0</td>\n",
              "      <td>0</td>\n",
              "      <td>0</td>\n",
              "      <td>0</td>\n",
              "      <td>0</td>\n",
              "      <td>0</td>\n",
              "      <td>0</td>\n",
              "      <td>0</td>\n",
              "      <td>0</td>\n",
              "      <td>0</td>\n",
              "      <td>0</td>\n",
              "      <td>0</td>\n",
              "      <td>0</td>\n",
              "      <td>0</td>\n",
              "      <td>0</td>\n",
              "      <td>0</td>\n",
              "      <td>0</td>\n",
              "      <td>0</td>\n",
              "      <td>0</td>\n",
              "      <td>0</td>\n",
              "      <td>0</td>\n",
              "      <td>0</td>\n",
              "      <td>0</td>\n",
              "      <td>0</td>\n",
              "      <td>0</td>\n",
              "      <td>0</td>\n",
              "      <td>0</td>\n",
              "      <td>0</td>\n",
              "      <td>0</td>\n",
              "      <td>0</td>\n",
              "      <td>0</td>\n",
              "      <td>...</td>\n",
              "      <td>0.0</td>\n",
              "      <td>0.0</td>\n",
              "      <td>0.0</td>\n",
              "      <td>0.0</td>\n",
              "      <td>0.0</td>\n",
              "      <td>0.0</td>\n",
              "      <td>0.0</td>\n",
              "      <td>0.0</td>\n",
              "      <td>0.0</td>\n",
              "      <td>0.0</td>\n",
              "      <td>0.0</td>\n",
              "      <td>0.0</td>\n",
              "      <td>0.0</td>\n",
              "      <td>0.0</td>\n",
              "      <td>0.0</td>\n",
              "      <td>0.0</td>\n",
              "      <td>0.0</td>\n",
              "      <td>0.0</td>\n",
              "      <td>0.0</td>\n",
              "      <td>0.0</td>\n",
              "      <td>0.0</td>\n",
              "      <td>0.0</td>\n",
              "      <td>0.0</td>\n",
              "      <td>0.0</td>\n",
              "      <td>0.0</td>\n",
              "      <td>0.0</td>\n",
              "      <td>0.0</td>\n",
              "      <td>0.0</td>\n",
              "      <td>0.0</td>\n",
              "      <td>0.0</td>\n",
              "      <td>0.0</td>\n",
              "      <td>0.0</td>\n",
              "      <td>0.0</td>\n",
              "      <td>0.0</td>\n",
              "      <td>0.0</td>\n",
              "      <td>0.0</td>\n",
              "      <td>0.0</td>\n",
              "      <td>0.0</td>\n",
              "      <td>0.0</td>\n",
              "      <td>0</td>\n",
              "    </tr>\n",
              "    <tr>\n",
              "      <th>1</th>\n",
              "      <td>9</td>\n",
              "      <td>0</td>\n",
              "      <td>0</td>\n",
              "      <td>0</td>\n",
              "      <td>0</td>\n",
              "      <td>0</td>\n",
              "      <td>0</td>\n",
              "      <td>0</td>\n",
              "      <td>0</td>\n",
              "      <td>0</td>\n",
              "      <td>0</td>\n",
              "      <td>0</td>\n",
              "      <td>0</td>\n",
              "      <td>0</td>\n",
              "      <td>0</td>\n",
              "      <td>0</td>\n",
              "      <td>0</td>\n",
              "      <td>0</td>\n",
              "      <td>0</td>\n",
              "      <td>0</td>\n",
              "      <td>0</td>\n",
              "      <td>0</td>\n",
              "      <td>0</td>\n",
              "      <td>0</td>\n",
              "      <td>0</td>\n",
              "      <td>0</td>\n",
              "      <td>0</td>\n",
              "      <td>0</td>\n",
              "      <td>0</td>\n",
              "      <td>0</td>\n",
              "      <td>0</td>\n",
              "      <td>0</td>\n",
              "      <td>0</td>\n",
              "      <td>0</td>\n",
              "      <td>0</td>\n",
              "      <td>0</td>\n",
              "      <td>0</td>\n",
              "      <td>0</td>\n",
              "      <td>0</td>\n",
              "      <td>0</td>\n",
              "      <td>...</td>\n",
              "      <td>0.0</td>\n",
              "      <td>0.0</td>\n",
              "      <td>0.0</td>\n",
              "      <td>0.0</td>\n",
              "      <td>0.0</td>\n",
              "      <td>0.0</td>\n",
              "      <td>0.0</td>\n",
              "      <td>0.0</td>\n",
              "      <td>0.0</td>\n",
              "      <td>0.0</td>\n",
              "      <td>0.0</td>\n",
              "      <td>0.0</td>\n",
              "      <td>0.0</td>\n",
              "      <td>0.0</td>\n",
              "      <td>0.0</td>\n",
              "      <td>0.0</td>\n",
              "      <td>0.0</td>\n",
              "      <td>0.0</td>\n",
              "      <td>0.0</td>\n",
              "      <td>0.0</td>\n",
              "      <td>0.0</td>\n",
              "      <td>0.0</td>\n",
              "      <td>0.0</td>\n",
              "      <td>0.0</td>\n",
              "      <td>0.0</td>\n",
              "      <td>0.0</td>\n",
              "      <td>0.0</td>\n",
              "      <td>0.0</td>\n",
              "      <td>0.0</td>\n",
              "      <td>0.0</td>\n",
              "      <td>0.0</td>\n",
              "      <td>0.0</td>\n",
              "      <td>0.0</td>\n",
              "      <td>0.0</td>\n",
              "      <td>0.0</td>\n",
              "      <td>0.0</td>\n",
              "      <td>0.0</td>\n",
              "      <td>0.0</td>\n",
              "      <td>0.0</td>\n",
              "      <td>1</td>\n",
              "    </tr>\n",
              "    <tr>\n",
              "      <th>2</th>\n",
              "      <td>6</td>\n",
              "      <td>0</td>\n",
              "      <td>0</td>\n",
              "      <td>0</td>\n",
              "      <td>0</td>\n",
              "      <td>0</td>\n",
              "      <td>0</td>\n",
              "      <td>0</td>\n",
              "      <td>5</td>\n",
              "      <td>0</td>\n",
              "      <td>0</td>\n",
              "      <td>0</td>\n",
              "      <td>105</td>\n",
              "      <td>92</td>\n",
              "      <td>101</td>\n",
              "      <td>107</td>\n",
              "      <td>100</td>\n",
              "      <td>132</td>\n",
              "      <td>0</td>\n",
              "      <td>0</td>\n",
              "      <td>2</td>\n",
              "      <td>4</td>\n",
              "      <td>0</td>\n",
              "      <td>1</td>\n",
              "      <td>0</td>\n",
              "      <td>0</td>\n",
              "      <td>0</td>\n",
              "      <td>0</td>\n",
              "      <td>0</td>\n",
              "      <td>0</td>\n",
              "      <td>0</td>\n",
              "      <td>0</td>\n",
              "      <td>0</td>\n",
              "      <td>0</td>\n",
              "      <td>0</td>\n",
              "      <td>0</td>\n",
              "      <td>0</td>\n",
              "      <td>0</td>\n",
              "      <td>0</td>\n",
              "      <td>150</td>\n",
              "      <td>...</td>\n",
              "      <td>220.0</td>\n",
              "      <td>214.0</td>\n",
              "      <td>74.0</td>\n",
              "      <td>0.0</td>\n",
              "      <td>255.0</td>\n",
              "      <td>222.0</td>\n",
              "      <td>128.0</td>\n",
              "      <td>0.0</td>\n",
              "      <td>0.0</td>\n",
              "      <td>0.0</td>\n",
              "      <td>0.0</td>\n",
              "      <td>0.0</td>\n",
              "      <td>0.0</td>\n",
              "      <td>0.0</td>\n",
              "      <td>0.0</td>\n",
              "      <td>0.0</td>\n",
              "      <td>44.0</td>\n",
              "      <td>12.0</td>\n",
              "      <td>0.0</td>\n",
              "      <td>0.0</td>\n",
              "      <td>40.0</td>\n",
              "      <td>134.0</td>\n",
              "      <td>162.0</td>\n",
              "      <td>191.0</td>\n",
              "      <td>214.0</td>\n",
              "      <td>163.0</td>\n",
              "      <td>146.0</td>\n",
              "      <td>165.0</td>\n",
              "      <td>79.0</td>\n",
              "      <td>0.0</td>\n",
              "      <td>0.0</td>\n",
              "      <td>0.0</td>\n",
              "      <td>30.0</td>\n",
              "      <td>43.0</td>\n",
              "      <td>0.0</td>\n",
              "      <td>0.0</td>\n",
              "      <td>0.0</td>\n",
              "      <td>0.0</td>\n",
              "      <td>0.0</td>\n",
              "      <td>2</td>\n",
              "    </tr>\n",
              "  </tbody>\n",
              "</table>\n",
              "<p>3 rows × 786 columns</p>\n",
              "</div>"
            ],
            "text/plain": [
              "   label  pixel1  pixel2  pixel3  ...  pixel782  pixel783  pixel784  Id\n",
              "0      2       0       0       0  ...       0.0       0.0       0.0   0\n",
              "1      9       0       0       0  ...       0.0       0.0       0.0   1\n",
              "2      6       0       0       0  ...       0.0       0.0       0.0   2\n",
              "\n",
              "[3 rows x 786 columns]"
            ]
          },
          "metadata": {
            "tags": []
          },
          "execution_count": 5
        }
      ]
    },
    {
      "cell_type": "code",
      "metadata": {
        "colab": {
          "base_uri": "https://localhost:8080/"
        },
        "id": "maWWMkeBOKOP",
        "outputId": "3d620722-4578-44c7-bf4b-722cd8c89528"
      },
      "source": [
        "train_raw.isnull().sum() "
      ],
      "execution_count": 6,
      "outputs": [
        {
          "output_type": "execute_result",
          "data": {
            "text/plain": [
              "label       0\n",
              "pixel1      0\n",
              "pixel2      0\n",
              "pixel3      0\n",
              "pixel4      0\n",
              "           ..\n",
              "pixel781    1\n",
              "pixel782    1\n",
              "pixel783    1\n",
              "pixel784    1\n",
              "Id          0\n",
              "Length: 786, dtype: int64"
            ]
          },
          "metadata": {
            "tags": []
          },
          "execution_count": 6
        }
      ]
    },
    {
      "cell_type": "code",
      "metadata": {
        "id": "YYE6rXdAOYk6"
      },
      "source": [
        "train_raw.fillna(0, inplace=True)"
      ],
      "execution_count": 7,
      "outputs": []
    },
    {
      "cell_type": "code",
      "metadata": {
        "id": "NHVIRd4sLc_v"
      },
      "source": [
        "train = train_raw.drop(['Id'], axis=1)"
      ],
      "execution_count": 8,
      "outputs": []
    },
    {
      "cell_type": "code",
      "metadata": {
        "id": "ZUcAfLNWMboe"
      },
      "source": [
        "X = train.drop(['label'], axis=1)\n",
        "y = train.label"
      ],
      "execution_count": 9,
      "outputs": []
    },
    {
      "cell_type": "code",
      "metadata": {
        "id": "cEI2pp3XKunI"
      },
      "source": [
        "x_train, x_valid, y_train, y_valid = train_test_split(X, y, test_size=0.3, random_state=42)"
      ],
      "execution_count": 10,
      "outputs": []
    },
    {
      "cell_type": "code",
      "metadata": {
        "id": "1_77RgxGtBT2"
      },
      "source": [
        "scaler = StandardScaler()\n",
        "x_train = scaler.fit_transform(x_train)\n",
        "x_valid = scaler.transform(x_valid)"
      ],
      "execution_count": 15,
      "outputs": []
    },
    {
      "cell_type": "markdown",
      "metadata": {
        "id": "f52zFcyRSYL_"
      },
      "source": [
        "dfvkjsdlkvjl"
      ]
    },
    {
      "cell_type": "markdown",
      "metadata": {
        "id": "KWZq2UG3Sf2B"
      },
      "source": [
        "dfvksdjlvkj"
      ]
    },
    {
      "cell_type": "markdown",
      "metadata": {
        "id": "pekzUQ6Yl7LD"
      },
      "source": [
        "# Метод 1. K-ближайших соседей"
      ]
    },
    {
      "cell_type": "code",
      "metadata": {
        "id": "NOdh-hWQJT93"
      },
      "source": [
        "knc = KNeighborsClassifier(n_neighbors=10, n_jobs=-1)\n",
        "knc = knc.fit(x_train, y_train)\n",
        "y_pred = knc.predict(x_valid)"
      ],
      "execution_count": 16,
      "outputs": []
    },
    {
      "cell_type": "code",
      "metadata": {
        "colab": {
          "base_uri": "https://localhost:8080/"
        },
        "id": "43m3XJO5PAc1",
        "outputId": "d0e7c500-cf35-4369-e7f8-6e98fd404159"
      },
      "source": [
        "clf_rep = classification_report(y_valid, y_pred)\n",
        "print(clf_rep)"
      ],
      "execution_count": 17,
      "outputs": [
        {
          "output_type": "stream",
          "text": [
            "              precision    recall  f1-score   support\n",
            "\n",
            "           0       0.73      0.91      0.81       501\n",
            "           1       0.99      0.94      0.96       503\n",
            "           2       0.74      0.71      0.72       525\n",
            "           3       0.89      0.83      0.86       556\n",
            "           4       0.68      0.76      0.72       467\n",
            "           5       0.99      0.77      0.86       546\n",
            "           6       0.56      0.50      0.53       510\n",
            "           7       0.83      0.95      0.88       536\n",
            "           8       0.97      0.92      0.94       495\n",
            "           9       0.87      0.95      0.91       473\n",
            "\n",
            "    accuracy                           0.82      5112\n",
            "   macro avg       0.82      0.82      0.82      5112\n",
            "weighted avg       0.83      0.82      0.82      5112\n",
            "\n"
          ],
          "name": "stdout"
        }
      ]
    },
    {
      "cell_type": "markdown",
      "metadata": {
        "id": "QbqpKOE8mccr"
      },
      "source": [
        ""
      ]
    },
    {
      "cell_type": "markdown",
      "metadata": {
        "id": "78difucQQ_8f"
      },
      "source": [
        "# Метод 2. Метод опорных векторов"
      ]
    },
    {
      "cell_type": "code",
      "metadata": {
        "id": "NQfocFaST9H9"
      },
      "source": [
        "svc = SVC()\n",
        "svc = svc.fit(x_train, y_train)\n",
        "y_pred = svc.predict(x_valid)"
      ],
      "execution_count": 18,
      "outputs": []
    },
    {
      "cell_type": "code",
      "metadata": {
        "colab": {
          "base_uri": "https://localhost:8080/"
        },
        "id": "j7KuAzRNT6KV",
        "outputId": "3647a4f6-6128-48b0-d098-de687cb2ccfa"
      },
      "source": [
        "clf_rep = classification_report(y_valid, y_pred)\n",
        "print(clf_rep)"
      ],
      "execution_count": 19,
      "outputs": [
        {
          "output_type": "stream",
          "text": [
            "              precision    recall  f1-score   support\n",
            "\n",
            "           0       0.80      0.86      0.83       501\n",
            "           1       0.99      0.93      0.96       503\n",
            "           2       0.80      0.80      0.80       525\n",
            "           3       0.87      0.89      0.88       556\n",
            "           4       0.74      0.81      0.77       467\n",
            "           5       0.96      0.93      0.95       546\n",
            "           6       0.67      0.57      0.62       510\n",
            "           7       0.91      0.93      0.92       536\n",
            "           8       0.93      0.97      0.95       495\n",
            "           9       0.93      0.93      0.93       473\n",
            "\n",
            "    accuracy                           0.86      5112\n",
            "   macro avg       0.86      0.86      0.86      5112\n",
            "weighted avg       0.86      0.86      0.86      5112\n",
            "\n"
          ],
          "name": "stdout"
        }
      ]
    },
    {
      "cell_type": "markdown",
      "metadata": {
        "id": "Ir08RDDWr1Zv"
      },
      "source": [
        "# Decision Tree"
      ]
    },
    {
      "cell_type": "code",
      "metadata": {
        "id": "t5bWG654r6K_"
      },
      "source": [
        "clf = DecisionTreeClassifier(max_depth=30, random_state=42)\n",
        "clf.fit(x_train, y_train)\n",
        "y_pred = clf.predict(x_valid)"
      ],
      "execution_count": 20,
      "outputs": []
    },
    {
      "cell_type": "code",
      "metadata": {
        "colab": {
          "base_uri": "https://localhost:8080/"
        },
        "id": "nuvTEUXEsfFs",
        "outputId": "c653c1de-a6b3-40c5-b24c-e1a97dd474dd"
      },
      "source": [
        "clf_rep = classification_report(y_valid, y_pred)\n",
        "print(clf_rep)"
      ],
      "execution_count": 21,
      "outputs": [
        {
          "output_type": "stream",
          "text": [
            "              precision    recall  f1-score   support\n",
            "\n",
            "           0       0.74      0.75      0.75       501\n",
            "           1       0.91      0.92      0.91       503\n",
            "           2       0.61      0.64      0.62       525\n",
            "           3       0.79      0.77      0.78       556\n",
            "           4       0.60      0.63      0.62       467\n",
            "           5       0.88      0.87      0.88       546\n",
            "           6       0.50      0.46      0.48       510\n",
            "           7       0.85      0.84      0.85       536\n",
            "           8       0.88      0.86      0.87       495\n",
            "           9       0.84      0.87      0.86       473\n",
            "\n",
            "    accuracy                           0.76      5112\n",
            "   macro avg       0.76      0.76      0.76      5112\n",
            "weighted avg       0.76      0.76      0.76      5112\n",
            "\n"
          ],
          "name": "stdout"
        }
      ]
    },
    {
      "cell_type": "code",
      "metadata": {
        "id": "ZLnGLH4YsJro"
      },
      "source": [
        "accuracy_score(test_labels, predictions) # находим Accuracy score"
      ],
      "execution_count": null,
      "outputs": []
    },
    {
      "cell_type": "markdown",
      "metadata": {
        "id": "1xg9sc5xszFN"
      },
      "source": [
        "# Random Forest"
      ]
    },
    {
      "cell_type": "code",
      "metadata": {
        "id": "TzOhsSv-s3AH"
      },
      "source": [
        "clf = RandomForestClassifier(n_estimators=100, n_jobs=-1, max_depth=30)\n",
        "clf.fit(x_train, y_train)\n",
        "y_pred = clf.predict(x_valid)"
      ],
      "execution_count": 22,
      "outputs": []
    },
    {
      "cell_type": "code",
      "metadata": {
        "colab": {
          "base_uri": "https://localhost:8080/"
        },
        "id": "cz8x37BQtfpb",
        "outputId": "f39e56c8-ba46-4e17-d792-40bbe2158f2a"
      },
      "source": [
        "clf_rep = classification_report(y_valid, y_pred)\n",
        "print(clf_rep)"
      ],
      "execution_count": 23,
      "outputs": [
        {
          "output_type": "stream",
          "text": [
            "              precision    recall  f1-score   support\n",
            "\n",
            "           0       0.81      0.87      0.84       501\n",
            "           1       0.99      0.93      0.96       503\n",
            "           2       0.75      0.78      0.77       525\n",
            "           3       0.87      0.89      0.88       556\n",
            "           4       0.71      0.78      0.74       467\n",
            "           5       0.97      0.95      0.96       546\n",
            "           6       0.66      0.53      0.58       510\n",
            "           7       0.91      0.92      0.91       536\n",
            "           8       0.95      0.96      0.95       495\n",
            "           9       0.92      0.93      0.92       473\n",
            "\n",
            "    accuracy                           0.86      5112\n",
            "   macro avg       0.85      0.85      0.85      5112\n",
            "weighted avg       0.85      0.86      0.85      5112\n",
            "\n"
          ],
          "name": "stdout"
        }
      ]
    },
    {
      "cell_type": "markdown",
      "metadata": {
        "id": "FfrkwOU5t_8I"
      },
      "source": [
        "# Бустинг"
      ]
    },
    {
      "cell_type": "code",
      "metadata": {
        "id": "qCUo2RXLuFSC"
      },
      "source": [
        "clf = GradientBoostingClassifier(random_state=42, learning_rate = 0.01, n_estimators = 10) \n",
        "clf.fit(x_train, y_train)\n",
        "y_pred = clf.predict(x_valid)"
      ],
      "execution_count": 25,
      "outputs": []
    },
    {
      "cell_type": "code",
      "metadata": {
        "id": "JbCmMvm6uTKZ"
      },
      "source": [
        "clf_rep = classification_report(y_valid, y_pred)\n",
        "print(clf_rep)"
      ],
      "execution_count": null,
      "outputs": []
    },
    {
      "cell_type": "markdown",
      "metadata": {
        "id": "g2wJCUQXkAyn"
      },
      "source": [
        "# Нейронная сетью - MLPClassifier"
      ]
    },
    {
      "cell_type": "code",
      "metadata": {
        "id": "skvDPgHLm_XU"
      },
      "source": [
        "clf = MLPClassifier(max_iter=1000, random_state=0)\n",
        "clf.fit(x_train, y_train)\n",
        "y_pred = clf.predict(x_valid)"
      ],
      "execution_count": null,
      "outputs": []
    },
    {
      "cell_type": "code",
      "metadata": {
        "colab": {
          "base_uri": "https://localhost:8080/"
        },
        "id": "6uzGm2CynVa7",
        "outputId": "77811fa2-5be9-4116-9660-12bcd2017fa6"
      },
      "source": [
        "clf_rep = classification_report(y_valid, y_pred)\n",
        "print(clf_rep)"
      ],
      "execution_count": null,
      "outputs": [
        {
          "output_type": "stream",
          "text": [
            "              precision    recall  f1-score   support\n",
            "\n",
            "           0       0.83      0.76      0.80       501\n",
            "           1       0.97      0.94      0.95       503\n",
            "           2       0.66      0.76      0.71       525\n",
            "           3       0.83      0.86      0.85       556\n",
            "           4       0.57      0.83      0.68       467\n",
            "           5       0.95      0.90      0.92       546\n",
            "           6       0.65      0.36      0.46       510\n",
            "           7       0.87      0.95      0.91       536\n",
            "           8       0.97      0.92      0.95       495\n",
            "           9       0.93      0.89      0.91       473\n",
            "\n",
            "    accuracy                           0.82      5112\n",
            "   macro avg       0.82      0.82      0.81      5112\n",
            "weighted avg       0.82      0.82      0.81      5112\n",
            "\n"
          ],
          "name": "stdout"
        }
      ]
    },
    {
      "cell_type": "markdown",
      "metadata": {
        "id": "SVX4WlVUpoOq"
      },
      "source": [
        "# Нейронная сеть с TensorFlow"
      ]
    },
    {
      "cell_type": "code",
      "metadata": {
        "colab": {
          "base_uri": "https://localhost:8080/"
        },
        "id": "TyAfncXzGD5p",
        "outputId": "c1b85341-9609-4183-a499-eed56e62dcee"
      },
      "source": [
        "print(x_train.shape)\n",
        "print(y_train.shape)\n",
        "print(y_valid.shape)\n",
        "print(x_valid.shape)"
      ],
      "execution_count": 27,
      "outputs": [
        {
          "output_type": "stream",
          "text": [
            "(5266, 784)\n",
            "(5266,)\n",
            "(2257,)\n",
            "(2257, 784)\n"
          ],
          "name": "stdout"
        }
      ]
    },
    {
      "cell_type": "code",
      "metadata": {
        "id": "xRrrV00jqqpx"
      },
      "source": [
        "K.clear_session()  # очищает граф и перезапускает сессию"
      ],
      "execution_count": 101,
      "outputs": []
    },
    {
      "cell_type": "markdown",
      "metadata": {
        "id": "oaKOZI8dMOJy"
      },
      "source": [
        "# Модель без скрытых слоев"
      ]
    },
    {
      "cell_type": "code",
      "metadata": {
        "colab": {
          "base_uri": "https://localhost:8080/"
        },
        "id": "CKJSAT1aL2rc",
        "outputId": "b4b6607f-7c63-4645-a435-fe5e603ae596"
      },
      "source": [
        "model = keras.Sequential([keras.layers.Dense(10, input_shape=(784,), activation='sigmoid')])\n",
        "\n",
        "model.compile(optimizer='adam',\n",
        "              loss='sparse_categorical_crossentropy',\n",
        "              metrics=['accuracy'])\n",
        "\n",
        "model.fit(x_train, y_train, epochs=100)"
      ],
      "execution_count": 185,
      "outputs": [
        {
          "output_type": "stream",
          "text": [
            "Epoch 1/100\n",
            "165/165 [==============================] - 1s 1ms/step - loss: 1.1688 - accuracy: 0.5928\n",
            "Epoch 2/100\n",
            "165/165 [==============================] - 0s 2ms/step - loss: 0.5497 - accuracy: 0.8088\n",
            "Epoch 3/100\n",
            "165/165 [==============================] - 0s 1ms/step - loss: 0.4615 - accuracy: 0.8409\n",
            "Epoch 4/100\n",
            "165/165 [==============================] - 0s 1ms/step - loss: 0.4340 - accuracy: 0.8506\n",
            "Epoch 5/100\n",
            "165/165 [==============================] - 0s 1ms/step - loss: 0.4216 - accuracy: 0.8514\n",
            "Epoch 6/100\n",
            "165/165 [==============================] - 0s 1ms/step - loss: 0.3948 - accuracy: 0.8624\n",
            "Epoch 7/100\n",
            "165/165 [==============================] - 0s 1ms/step - loss: 0.3610 - accuracy: 0.8770\n",
            "Epoch 8/100\n",
            "165/165 [==============================] - 0s 1ms/step - loss: 0.3547 - accuracy: 0.8789\n",
            "Epoch 9/100\n",
            "165/165 [==============================] - 0s 1ms/step - loss: 0.3164 - accuracy: 0.8928\n",
            "Epoch 10/100\n",
            "165/165 [==============================] - 0s 1ms/step - loss: 0.3234 - accuracy: 0.8904\n",
            "Epoch 11/100\n",
            "165/165 [==============================] - 0s 1ms/step - loss: 0.2871 - accuracy: 0.9077\n",
            "Epoch 12/100\n",
            "165/165 [==============================] - 0s 1ms/step - loss: 0.2810 - accuracy: 0.9079\n",
            "Epoch 13/100\n",
            "165/165 [==============================] - 0s 1ms/step - loss: 0.2814 - accuracy: 0.9056\n",
            "Epoch 14/100\n",
            "165/165 [==============================] - 0s 1ms/step - loss: 0.2712 - accuracy: 0.9061\n",
            "Epoch 15/100\n",
            "165/165 [==============================] - 0s 1ms/step - loss: 0.2749 - accuracy: 0.9062\n",
            "Epoch 16/100\n",
            "165/165 [==============================] - 0s 1ms/step - loss: 0.2730 - accuracy: 0.9090\n",
            "Epoch 17/100\n",
            "165/165 [==============================] - 0s 1ms/step - loss: 0.2576 - accuracy: 0.9162\n",
            "Epoch 18/100\n",
            "165/165 [==============================] - 0s 1ms/step - loss: 0.2555 - accuracy: 0.9169\n",
            "Epoch 19/100\n",
            "165/165 [==============================] - 0s 1ms/step - loss: 0.2352 - accuracy: 0.9218\n",
            "Epoch 20/100\n",
            "165/165 [==============================] - 0s 1ms/step - loss: 0.2441 - accuracy: 0.9162\n",
            "Epoch 21/100\n",
            "165/165 [==============================] - 0s 1ms/step - loss: 0.2335 - accuracy: 0.9267\n",
            "Epoch 22/100\n",
            "165/165 [==============================] - 0s 1ms/step - loss: 0.2275 - accuracy: 0.9228\n",
            "Epoch 23/100\n",
            "165/165 [==============================] - 0s 1ms/step - loss: 0.2272 - accuracy: 0.9259\n",
            "Epoch 24/100\n",
            "165/165 [==============================] - 0s 1ms/step - loss: 0.2338 - accuracy: 0.9258\n",
            "Epoch 25/100\n",
            "165/165 [==============================] - 0s 1ms/step - loss: 0.2243 - accuracy: 0.9242\n",
            "Epoch 26/100\n",
            "165/165 [==============================] - 0s 1ms/step - loss: 0.2190 - accuracy: 0.9287\n",
            "Epoch 27/100\n",
            "165/165 [==============================] - 0s 1ms/step - loss: 0.2098 - accuracy: 0.9304\n",
            "Epoch 28/100\n",
            "165/165 [==============================] - 0s 1ms/step - loss: 0.1999 - accuracy: 0.9369\n",
            "Epoch 29/100\n",
            "165/165 [==============================] - 0s 1ms/step - loss: 0.2135 - accuracy: 0.9266\n",
            "Epoch 30/100\n",
            "165/165 [==============================] - 0s 1ms/step - loss: 0.2120 - accuracy: 0.9305\n",
            "Epoch 31/100\n",
            "165/165 [==============================] - 0s 1ms/step - loss: 0.1901 - accuracy: 0.9409\n",
            "Epoch 32/100\n",
            "165/165 [==============================] - 0s 1ms/step - loss: 0.1996 - accuracy: 0.9383\n",
            "Epoch 33/100\n",
            "165/165 [==============================] - 0s 1ms/step - loss: 0.1955 - accuracy: 0.9354\n",
            "Epoch 34/100\n",
            "165/165 [==============================] - 0s 1ms/step - loss: 0.1823 - accuracy: 0.9400\n",
            "Epoch 35/100\n",
            "165/165 [==============================] - 0s 1ms/step - loss: 0.1912 - accuracy: 0.9362\n",
            "Epoch 36/100\n",
            "165/165 [==============================] - 0s 1ms/step - loss: 0.1913 - accuracy: 0.9390\n",
            "Epoch 37/100\n",
            "165/165 [==============================] - 0s 1ms/step - loss: 0.1743 - accuracy: 0.9436\n",
            "Epoch 38/100\n",
            "165/165 [==============================] - 0s 1ms/step - loss: 0.1721 - accuracy: 0.9425\n",
            "Epoch 39/100\n",
            "165/165 [==============================] - 0s 1ms/step - loss: 0.1788 - accuracy: 0.9444\n",
            "Epoch 40/100\n",
            "165/165 [==============================] - 0s 1ms/step - loss: 0.1828 - accuracy: 0.9399\n",
            "Epoch 41/100\n",
            "165/165 [==============================] - 0s 1ms/step - loss: 0.1716 - accuracy: 0.9451\n",
            "Epoch 42/100\n",
            "165/165 [==============================] - 0s 1ms/step - loss: 0.1690 - accuracy: 0.9494\n",
            "Epoch 43/100\n",
            "165/165 [==============================] - 0s 1ms/step - loss: 0.1653 - accuracy: 0.9453\n",
            "Epoch 44/100\n",
            "165/165 [==============================] - 0s 1ms/step - loss: 0.1655 - accuracy: 0.9467\n",
            "Epoch 45/100\n",
            "165/165 [==============================] - 0s 1ms/step - loss: 0.1665 - accuracy: 0.9462\n",
            "Epoch 46/100\n",
            "165/165 [==============================] - 0s 1ms/step - loss: 0.1701 - accuracy: 0.9497\n",
            "Epoch 47/100\n",
            "165/165 [==============================] - 0s 1ms/step - loss: 0.1629 - accuracy: 0.9484\n",
            "Epoch 48/100\n",
            "165/165 [==============================] - 0s 1ms/step - loss: 0.1586 - accuracy: 0.9477\n",
            "Epoch 49/100\n",
            "165/165 [==============================] - 0s 1ms/step - loss: 0.1533 - accuracy: 0.9544\n",
            "Epoch 50/100\n",
            "165/165 [==============================] - 0s 2ms/step - loss: 0.1630 - accuracy: 0.9492\n",
            "Epoch 51/100\n",
            "165/165 [==============================] - 0s 1ms/step - loss: 0.1499 - accuracy: 0.9482\n",
            "Epoch 52/100\n",
            "165/165 [==============================] - 0s 1ms/step - loss: 0.1691 - accuracy: 0.9458\n",
            "Epoch 53/100\n",
            "165/165 [==============================] - 0s 2ms/step - loss: 0.1591 - accuracy: 0.9500\n",
            "Epoch 54/100\n",
            "165/165 [==============================] - 0s 1ms/step - loss: 0.1580 - accuracy: 0.9505\n",
            "Epoch 55/100\n",
            "165/165 [==============================] - 0s 1ms/step - loss: 0.1523 - accuracy: 0.9510\n",
            "Epoch 56/100\n",
            "165/165 [==============================] - 0s 2ms/step - loss: 0.1514 - accuracy: 0.9513\n",
            "Epoch 57/100\n",
            "165/165 [==============================] - 0s 1ms/step - loss: 0.1541 - accuracy: 0.9467\n",
            "Epoch 58/100\n",
            "165/165 [==============================] - 0s 1ms/step - loss: 0.1503 - accuracy: 0.9543\n",
            "Epoch 59/100\n",
            "165/165 [==============================] - 0s 1ms/step - loss: 0.1492 - accuracy: 0.9529\n",
            "Epoch 60/100\n",
            "165/165 [==============================] - 0s 1ms/step - loss: 0.1528 - accuracy: 0.9537\n",
            "Epoch 61/100\n",
            "165/165 [==============================] - 0s 1ms/step - loss: 0.1586 - accuracy: 0.9475\n",
            "Epoch 62/100\n",
            "165/165 [==============================] - 0s 1ms/step - loss: 0.1456 - accuracy: 0.9587\n",
            "Epoch 63/100\n",
            "165/165 [==============================] - 0s 1ms/step - loss: 0.1436 - accuracy: 0.9545\n",
            "Epoch 64/100\n",
            "165/165 [==============================] - 0s 1ms/step - loss: 0.1438 - accuracy: 0.9510\n",
            "Epoch 65/100\n",
            "165/165 [==============================] - 0s 1ms/step - loss: 0.1322 - accuracy: 0.9610\n",
            "Epoch 66/100\n",
            "165/165 [==============================] - 0s 1ms/step - loss: 0.1370 - accuracy: 0.9548\n",
            "Epoch 67/100\n",
            "165/165 [==============================] - 0s 1ms/step - loss: 0.1351 - accuracy: 0.9583\n",
            "Epoch 68/100\n",
            "165/165 [==============================] - 0s 1ms/step - loss: 0.1364 - accuracy: 0.9555\n",
            "Epoch 69/100\n",
            "165/165 [==============================] - 0s 1ms/step - loss: 0.1386 - accuracy: 0.9551\n",
            "Epoch 70/100\n",
            "165/165 [==============================] - 0s 1ms/step - loss: 0.1403 - accuracy: 0.9510\n",
            "Epoch 71/100\n",
            "165/165 [==============================] - 0s 2ms/step - loss: 0.1326 - accuracy: 0.9582\n",
            "Epoch 72/100\n",
            "165/165 [==============================] - 0s 1ms/step - loss: 0.1341 - accuracy: 0.9536\n",
            "Epoch 73/100\n",
            "165/165 [==============================] - 0s 1ms/step - loss: 0.1286 - accuracy: 0.9590\n",
            "Epoch 74/100\n",
            "165/165 [==============================] - 0s 1ms/step - loss: 0.1222 - accuracy: 0.9657\n",
            "Epoch 75/100\n",
            "165/165 [==============================] - 0s 1ms/step - loss: 0.1279 - accuracy: 0.9554\n",
            "Epoch 76/100\n",
            "165/165 [==============================] - 0s 1ms/step - loss: 0.1243 - accuracy: 0.9595\n",
            "Epoch 77/100\n",
            "165/165 [==============================] - 0s 1ms/step - loss: 0.1225 - accuracy: 0.9632\n",
            "Epoch 78/100\n",
            "165/165 [==============================] - 0s 1ms/step - loss: 0.1337 - accuracy: 0.9591\n",
            "Epoch 79/100\n",
            "165/165 [==============================] - 0s 1ms/step - loss: 0.1177 - accuracy: 0.9640\n",
            "Epoch 80/100\n",
            "165/165 [==============================] - 0s 1ms/step - loss: 0.1199 - accuracy: 0.9680\n",
            "Epoch 81/100\n",
            "165/165 [==============================] - 0s 1ms/step - loss: 0.1265 - accuracy: 0.9611\n",
            "Epoch 82/100\n",
            "165/165 [==============================] - 0s 1ms/step - loss: 0.1154 - accuracy: 0.9654\n",
            "Epoch 83/100\n",
            "165/165 [==============================] - 0s 1ms/step - loss: 0.1212 - accuracy: 0.9602\n",
            "Epoch 84/100\n",
            "165/165 [==============================] - 0s 1ms/step - loss: 0.1132 - accuracy: 0.9660\n",
            "Epoch 85/100\n",
            "165/165 [==============================] - 0s 2ms/step - loss: 0.1245 - accuracy: 0.9612\n",
            "Epoch 86/100\n",
            "165/165 [==============================] - 0s 1ms/step - loss: 0.1220 - accuracy: 0.9633\n",
            "Epoch 87/100\n",
            "165/165 [==============================] - 0s 1ms/step - loss: 0.1171 - accuracy: 0.9657\n",
            "Epoch 88/100\n",
            "165/165 [==============================] - 0s 1ms/step - loss: 0.1164 - accuracy: 0.9631\n",
            "Epoch 89/100\n",
            "165/165 [==============================] - 0s 1ms/step - loss: 0.1191 - accuracy: 0.9639\n",
            "Epoch 90/100\n",
            "165/165 [==============================] - 0s 1ms/step - loss: 0.1148 - accuracy: 0.9684\n",
            "Epoch 91/100\n",
            "165/165 [==============================] - 0s 1ms/step - loss: 0.1208 - accuracy: 0.9618\n",
            "Epoch 92/100\n",
            "165/165 [==============================] - 0s 1ms/step - loss: 0.1094 - accuracy: 0.9671\n",
            "Epoch 93/100\n",
            "165/165 [==============================] - 0s 1ms/step - loss: 0.1131 - accuracy: 0.9668\n",
            "Epoch 94/100\n",
            "165/165 [==============================] - 0s 1ms/step - loss: 0.1125 - accuracy: 0.9650\n",
            "Epoch 95/100\n",
            "165/165 [==============================] - 0s 1ms/step - loss: 0.1030 - accuracy: 0.9714\n",
            "Epoch 96/100\n",
            "165/165 [==============================] - 0s 1ms/step - loss: 0.1161 - accuracy: 0.9679\n",
            "Epoch 97/100\n",
            "165/165 [==============================] - 0s 1ms/step - loss: 0.1089 - accuracy: 0.9695\n",
            "Epoch 98/100\n",
            "165/165 [==============================] - 0s 1ms/step - loss: 0.1169 - accuracy: 0.9663\n",
            "Epoch 99/100\n",
            "165/165 [==============================] - 0s 1ms/step - loss: 0.1051 - accuracy: 0.9673\n",
            "Epoch 100/100\n",
            "165/165 [==============================] - 0s 2ms/step - loss: 0.1139 - accuracy: 0.9635\n"
          ],
          "name": "stdout"
        },
        {
          "output_type": "execute_result",
          "data": {
            "text/plain": [
              "<tensorflow.python.keras.callbacks.History at 0x7f6eed5de190>"
            ]
          },
          "metadata": {
            "tags": []
          },
          "execution_count": 185
        }
      ]
    },
    {
      "cell_type": "code",
      "metadata": {
        "colab": {
          "base_uri": "https://localhost:8080/"
        },
        "id": "C98fDNoDOvw0",
        "outputId": "c2f881e9-e364-4d7c-b17b-026e0d177184"
      },
      "source": [
        "model.evaluate(x_valid, y_valid)"
      ],
      "execution_count": 186,
      "outputs": [
        {
          "output_type": "stream",
          "text": [
            "71/71 [==============================] - 0s 1ms/step - loss: 0.8764 - accuracy: 0.8192\n"
          ],
          "name": "stdout"
        },
        {
          "output_type": "execute_result",
          "data": {
            "text/plain": [
              "[0.8763905763626099, 0.8192290663719177]"
            ]
          },
          "metadata": {
            "tags": []
          },
          "execution_count": 186
        }
      ]
    },
    {
      "cell_type": "code",
      "metadata": {
        "colab": {
          "base_uri": "https://localhost:8080/"
        },
        "id": "pvIly6FuOwBs",
        "outputId": "65837732-7f5a-40b0-bbde-77ae5611c024"
      },
      "source": [
        "y_predicted = model.predict(x_valid)\n",
        "y_predicted[0]"
      ],
      "execution_count": 51,
      "outputs": [
        {
          "output_type": "execute_result",
          "data": {
            "text/plain": [
              "array([1., 1., 1., 1., 1., 0., 1., 0., 0., 1.], dtype=float32)"
            ]
          },
          "metadata": {
            "tags": []
          },
          "execution_count": 51
        }
      ]
    },
    {
      "cell_type": "markdown",
      "metadata": {
        "id": "x7ISulmAPegq"
      },
      "source": [
        "# Модель со скрытыми слоями"
      ]
    },
    {
      "cell_type": "markdown",
      "metadata": {
        "id": "bzk2we02RsJT"
      },
      "source": [
        ""
      ]
    },
    {
      "cell_type": "code",
      "metadata": {
        "id": "JAtmQmd8PeNN"
      },
      "source": [
        "clear_session()"
      ],
      "execution_count": 193,
      "outputs": []
    },
    {
      "cell_type": "code",
      "metadata": {
        "colab": {
          "base_uri": "https://localhost:8080/"
        },
        "id": "s9wep-dbEJJD",
        "outputId": "2a1d894a-8fae-40ed-fd9f-78e6164a72f0"
      },
      "source": [
        "model = Sequential()\n",
        "model.add(Dense(256, activation='relu', input_shape=(x_train.shape[1],))) # первый скрытый слой\n",
        "model.add(Dense(128, activation='relu', input_shape=(x_train.shape[1],))) # первый скрытый слой\n",
        "model.add(Dense(64, activation='relu',)) # выходной слой\n",
        "model.add(Dense(10, activation='softmax',)) # выходной слой\n",
        "\n",
        "model.compile(optimizer='adam',\n",
        "              loss='sparse_categorical_crossentropy',\n",
        "              metrics=['accuracy'])\n",
        "\n",
        "history = model.fit(\n",
        "                    x_train, \n",
        "                    y_train,\n",
        "                    batch_size=32,\n",
        "                    epochs=100,\n",
        "                    validation_data=(x_valid, y_valid)\n",
        "                    )"
      ],
      "execution_count": 194,
      "outputs": [
        {
          "output_type": "stream",
          "text": [
            "Epoch 1/100\n",
            "165/165 [==============================] - 1s 6ms/step - loss: 0.9003 - accuracy: 0.6920 - val_loss: 0.5615 - val_accuracy: 0.8033\n",
            "Epoch 2/100\n",
            "165/165 [==============================] - 1s 5ms/step - loss: 0.4112 - accuracy: 0.8423 - val_loss: 0.4775 - val_accuracy: 0.8356\n",
            "Epoch 3/100\n",
            "165/165 [==============================] - 1s 5ms/step - loss: 0.3108 - accuracy: 0.8867 - val_loss: 0.4328 - val_accuracy: 0.8463\n",
            "Epoch 4/100\n",
            "165/165 [==============================] - 1s 4ms/step - loss: 0.2696 - accuracy: 0.8979 - val_loss: 0.5211 - val_accuracy: 0.8303\n",
            "Epoch 5/100\n",
            "165/165 [==============================] - 1s 5ms/step - loss: 0.2553 - accuracy: 0.9093 - val_loss: 0.5245 - val_accuracy: 0.8365\n",
            "Epoch 6/100\n",
            "165/165 [==============================] - 1s 5ms/step - loss: 0.2153 - accuracy: 0.9194 - val_loss: 0.5000 - val_accuracy: 0.8356\n",
            "Epoch 7/100\n",
            "165/165 [==============================] - 1s 5ms/step - loss: 0.1605 - accuracy: 0.9399 - val_loss: 0.5008 - val_accuracy: 0.8507\n",
            "Epoch 8/100\n",
            "165/165 [==============================] - 1s 5ms/step - loss: 0.1449 - accuracy: 0.9487 - val_loss: 0.5849 - val_accuracy: 0.8361\n",
            "Epoch 9/100\n",
            "165/165 [==============================] - 1s 5ms/step - loss: 0.1471 - accuracy: 0.9445 - val_loss: 0.5763 - val_accuracy: 0.8378\n",
            "Epoch 10/100\n",
            "165/165 [==============================] - 1s 5ms/step - loss: 0.1129 - accuracy: 0.9569 - val_loss: 0.6047 - val_accuracy: 0.8489\n",
            "Epoch 11/100\n",
            "165/165 [==============================] - 1s 5ms/step - loss: 0.0954 - accuracy: 0.9662 - val_loss: 0.6737 - val_accuracy: 0.8245\n",
            "Epoch 12/100\n",
            "165/165 [==============================] - 1s 5ms/step - loss: 0.1265 - accuracy: 0.9564 - val_loss: 0.6336 - val_accuracy: 0.8489\n",
            "Epoch 13/100\n",
            "165/165 [==============================] - 1s 5ms/step - loss: 0.1005 - accuracy: 0.9661 - val_loss: 0.7050 - val_accuracy: 0.8259\n",
            "Epoch 14/100\n",
            "165/165 [==============================] - 1s 4ms/step - loss: 0.0818 - accuracy: 0.9718 - val_loss: 0.6750 - val_accuracy: 0.8409\n",
            "Epoch 15/100\n",
            "165/165 [==============================] - 1s 4ms/step - loss: 0.0644 - accuracy: 0.9773 - val_loss: 0.8313 - val_accuracy: 0.8409\n",
            "Epoch 16/100\n",
            "165/165 [==============================] - 1s 5ms/step - loss: 0.0788 - accuracy: 0.9738 - val_loss: 0.7515 - val_accuracy: 0.8502\n",
            "Epoch 17/100\n",
            "165/165 [==============================] - 1s 5ms/step - loss: 0.0641 - accuracy: 0.9763 - val_loss: 0.7960 - val_accuracy: 0.8352\n",
            "Epoch 18/100\n",
            "165/165 [==============================] - 1s 5ms/step - loss: 0.0600 - accuracy: 0.9804 - val_loss: 0.9453 - val_accuracy: 0.8312\n",
            "Epoch 19/100\n",
            "165/165 [==============================] - 1s 5ms/step - loss: 0.0674 - accuracy: 0.9780 - val_loss: 0.9711 - val_accuracy: 0.8396\n",
            "Epoch 20/100\n",
            "165/165 [==============================] - 1s 4ms/step - loss: 0.0757 - accuracy: 0.9728 - val_loss: 0.8003 - val_accuracy: 0.8387\n",
            "Epoch 21/100\n",
            "165/165 [==============================] - 1s 5ms/step - loss: 0.0712 - accuracy: 0.9782 - val_loss: 0.7955 - val_accuracy: 0.8458\n",
            "Epoch 22/100\n",
            "165/165 [==============================] - 1s 5ms/step - loss: 0.1070 - accuracy: 0.9681 - val_loss: 0.7835 - val_accuracy: 0.8480\n",
            "Epoch 23/100\n",
            "165/165 [==============================] - 1s 4ms/step - loss: 0.0483 - accuracy: 0.9890 - val_loss: 0.8539 - val_accuracy: 0.8436\n",
            "Epoch 24/100\n",
            "165/165 [==============================] - 1s 5ms/step - loss: 0.0520 - accuracy: 0.9816 - val_loss: 0.9462 - val_accuracy: 0.8432\n",
            "Epoch 25/100\n",
            "165/165 [==============================] - 1s 5ms/step - loss: 0.0544 - accuracy: 0.9817 - val_loss: 0.8862 - val_accuracy: 0.8418\n",
            "Epoch 26/100\n",
            "165/165 [==============================] - 1s 5ms/step - loss: 0.0416 - accuracy: 0.9880 - val_loss: 0.9285 - val_accuracy: 0.8471\n",
            "Epoch 27/100\n",
            "165/165 [==============================] - 1s 5ms/step - loss: 0.0319 - accuracy: 0.9893 - val_loss: 1.0421 - val_accuracy: 0.8352\n",
            "Epoch 28/100\n",
            "165/165 [==============================] - 1s 5ms/step - loss: 0.0532 - accuracy: 0.9833 - val_loss: 0.9626 - val_accuracy: 0.8467\n",
            "Epoch 29/100\n",
            "165/165 [==============================] - 1s 5ms/step - loss: 0.0120 - accuracy: 0.9964 - val_loss: 1.0197 - val_accuracy: 0.8383\n",
            "Epoch 30/100\n",
            "165/165 [==============================] - 1s 5ms/step - loss: 0.0267 - accuracy: 0.9903 - val_loss: 1.0331 - val_accuracy: 0.8405\n",
            "Epoch 31/100\n",
            "165/165 [==============================] - 1s 5ms/step - loss: 0.0488 - accuracy: 0.9823 - val_loss: 1.1192 - val_accuracy: 0.8432\n",
            "Epoch 32/100\n",
            "165/165 [==============================] - 1s 5ms/step - loss: 0.0693 - accuracy: 0.9784 - val_loss: 1.0595 - val_accuracy: 0.8223\n",
            "Epoch 33/100\n",
            "165/165 [==============================] - 1s 5ms/step - loss: 0.0429 - accuracy: 0.9868 - val_loss: 1.2562 - val_accuracy: 0.8356\n",
            "Epoch 34/100\n",
            "165/165 [==============================] - 1s 5ms/step - loss: 0.0844 - accuracy: 0.9752 - val_loss: 0.9844 - val_accuracy: 0.8365\n",
            "Epoch 35/100\n",
            "165/165 [==============================] - 1s 5ms/step - loss: 0.0404 - accuracy: 0.9877 - val_loss: 0.9587 - val_accuracy: 0.8507\n",
            "Epoch 36/100\n",
            "165/165 [==============================] - 1s 5ms/step - loss: 0.0541 - accuracy: 0.9841 - val_loss: 0.9548 - val_accuracy: 0.8463\n",
            "Epoch 37/100\n",
            "165/165 [==============================] - 1s 5ms/step - loss: 0.0261 - accuracy: 0.9907 - val_loss: 1.0298 - val_accuracy: 0.8533\n",
            "Epoch 38/100\n",
            "165/165 [==============================] - 1s 5ms/step - loss: 0.0195 - accuracy: 0.9937 - val_loss: 1.0469 - val_accuracy: 0.8511\n",
            "Epoch 39/100\n",
            "165/165 [==============================] - 1s 5ms/step - loss: 0.0223 - accuracy: 0.9931 - val_loss: 1.0290 - val_accuracy: 0.8498\n",
            "Epoch 40/100\n",
            "165/165 [==============================] - 1s 4ms/step - loss: 0.0218 - accuracy: 0.9930 - val_loss: 1.0497 - val_accuracy: 0.8454\n",
            "Epoch 41/100\n",
            "165/165 [==============================] - 1s 5ms/step - loss: 0.0085 - accuracy: 0.9978 - val_loss: 1.0570 - val_accuracy: 0.8573\n",
            "Epoch 42/100\n",
            "165/165 [==============================] - 1s 5ms/step - loss: 0.0031 - accuracy: 0.9997 - val_loss: 1.0516 - val_accuracy: 0.8622\n",
            "Epoch 43/100\n",
            "165/165 [==============================] - 1s 5ms/step - loss: 7.0506e-04 - accuracy: 1.0000 - val_loss: 1.0816 - val_accuracy: 0.8631\n",
            "Epoch 44/100\n",
            "165/165 [==============================] - 1s 5ms/step - loss: 2.8661e-04 - accuracy: 1.0000 - val_loss: 1.1002 - val_accuracy: 0.8618\n",
            "Epoch 45/100\n",
            "165/165 [==============================] - 1s 5ms/step - loss: 2.0567e-04 - accuracy: 1.0000 - val_loss: 1.1139 - val_accuracy: 0.8626\n",
            "Epoch 46/100\n",
            "165/165 [==============================] - 1s 5ms/step - loss: 1.8632e-04 - accuracy: 1.0000 - val_loss: 1.1273 - val_accuracy: 0.8640\n",
            "Epoch 47/100\n",
            "165/165 [==============================] - 1s 5ms/step - loss: 1.4661e-04 - accuracy: 1.0000 - val_loss: 1.1403 - val_accuracy: 0.8644\n",
            "Epoch 48/100\n",
            "165/165 [==============================] - 1s 5ms/step - loss: 1.3962e-04 - accuracy: 1.0000 - val_loss: 1.1512 - val_accuracy: 0.8635\n",
            "Epoch 49/100\n",
            "165/165 [==============================] - 1s 5ms/step - loss: 1.0115e-04 - accuracy: 1.0000 - val_loss: 1.1620 - val_accuracy: 0.8635\n",
            "Epoch 50/100\n",
            "165/165 [==============================] - 1s 5ms/step - loss: 1.0173e-04 - accuracy: 1.0000 - val_loss: 1.1722 - val_accuracy: 0.8626\n",
            "Epoch 51/100\n",
            "165/165 [==============================] - 1s 5ms/step - loss: 8.4915e-05 - accuracy: 1.0000 - val_loss: 1.1828 - val_accuracy: 0.8626\n",
            "Epoch 52/100\n",
            "165/165 [==============================] - 1s 5ms/step - loss: 7.3385e-05 - accuracy: 1.0000 - val_loss: 1.1922 - val_accuracy: 0.8626\n",
            "Epoch 53/100\n",
            "165/165 [==============================] - 1s 5ms/step - loss: 7.6017e-05 - accuracy: 1.0000 - val_loss: 1.2015 - val_accuracy: 0.8626\n",
            "Epoch 54/100\n",
            "165/165 [==============================] - 1s 5ms/step - loss: 6.2777e-05 - accuracy: 1.0000 - val_loss: 1.2120 - val_accuracy: 0.8622\n",
            "Epoch 55/100\n",
            "165/165 [==============================] - 1s 5ms/step - loss: 5.5026e-05 - accuracy: 1.0000 - val_loss: 1.2203 - val_accuracy: 0.8622\n",
            "Epoch 56/100\n",
            "165/165 [==============================] - 1s 5ms/step - loss: 4.9512e-05 - accuracy: 1.0000 - val_loss: 1.2297 - val_accuracy: 0.8622\n",
            "Epoch 57/100\n",
            "165/165 [==============================] - 1s 5ms/step - loss: 4.7917e-05 - accuracy: 1.0000 - val_loss: 1.2386 - val_accuracy: 0.8618\n",
            "Epoch 58/100\n",
            "165/165 [==============================] - 1s 5ms/step - loss: 4.4587e-05 - accuracy: 1.0000 - val_loss: 1.2478 - val_accuracy: 0.8613\n",
            "Epoch 59/100\n",
            "165/165 [==============================] - 1s 5ms/step - loss: 3.6974e-05 - accuracy: 1.0000 - val_loss: 1.2571 - val_accuracy: 0.8613\n",
            "Epoch 60/100\n",
            "165/165 [==============================] - 1s 5ms/step - loss: 3.7587e-05 - accuracy: 1.0000 - val_loss: 1.2658 - val_accuracy: 0.8613\n",
            "Epoch 61/100\n",
            "165/165 [==============================] - 1s 5ms/step - loss: 2.8228e-05 - accuracy: 1.0000 - val_loss: 1.2741 - val_accuracy: 0.8618\n",
            "Epoch 62/100\n",
            "165/165 [==============================] - 1s 5ms/step - loss: 2.6778e-05 - accuracy: 1.0000 - val_loss: 1.2821 - val_accuracy: 0.8613\n",
            "Epoch 63/100\n",
            "165/165 [==============================] - 1s 5ms/step - loss: 2.2516e-05 - accuracy: 1.0000 - val_loss: 1.2919 - val_accuracy: 0.8618\n",
            "Epoch 64/100\n",
            "165/165 [==============================] - 1s 5ms/step - loss: 1.9965e-05 - accuracy: 1.0000 - val_loss: 1.2993 - val_accuracy: 0.8626\n",
            "Epoch 65/100\n",
            "165/165 [==============================] - 1s 5ms/step - loss: 1.9912e-05 - accuracy: 1.0000 - val_loss: 1.3089 - val_accuracy: 0.8618\n",
            "Epoch 66/100\n",
            "165/165 [==============================] - 1s 5ms/step - loss: 1.8561e-05 - accuracy: 1.0000 - val_loss: 1.3173 - val_accuracy: 0.8626\n",
            "Epoch 67/100\n",
            "165/165 [==============================] - 1s 5ms/step - loss: 1.5462e-05 - accuracy: 1.0000 - val_loss: 1.3278 - val_accuracy: 0.8618\n",
            "Epoch 68/100\n",
            "165/165 [==============================] - 1s 5ms/step - loss: 1.5691e-05 - accuracy: 1.0000 - val_loss: 1.3373 - val_accuracy: 0.8618\n",
            "Epoch 69/100\n",
            "165/165 [==============================] - 1s 5ms/step - loss: 1.4155e-05 - accuracy: 1.0000 - val_loss: 1.3453 - val_accuracy: 0.8626\n",
            "Epoch 70/100\n",
            "165/165 [==============================] - 1s 5ms/step - loss: 1.3518e-05 - accuracy: 1.0000 - val_loss: 1.3531 - val_accuracy: 0.8626\n",
            "Epoch 71/100\n",
            "165/165 [==============================] - 1s 5ms/step - loss: 1.1294e-05 - accuracy: 1.0000 - val_loss: 1.3629 - val_accuracy: 0.8631\n",
            "Epoch 72/100\n",
            "165/165 [==============================] - 1s 5ms/step - loss: 9.9251e-06 - accuracy: 1.0000 - val_loss: 1.3713 - val_accuracy: 0.8626\n",
            "Epoch 73/100\n",
            "165/165 [==============================] - 1s 5ms/step - loss: 9.4831e-06 - accuracy: 1.0000 - val_loss: 1.3796 - val_accuracy: 0.8626\n",
            "Epoch 74/100\n",
            "165/165 [==============================] - 1s 5ms/step - loss: 8.8668e-06 - accuracy: 1.0000 - val_loss: 1.3878 - val_accuracy: 0.8626\n",
            "Epoch 75/100\n",
            "165/165 [==============================] - 1s 5ms/step - loss: 8.5752e-06 - accuracy: 1.0000 - val_loss: 1.3975 - val_accuracy: 0.8622\n",
            "Epoch 76/100\n",
            "165/165 [==============================] - 1s 5ms/step - loss: 7.1033e-06 - accuracy: 1.0000 - val_loss: 1.4058 - val_accuracy: 0.8618\n",
            "Epoch 77/100\n",
            "165/165 [==============================] - 1s 5ms/step - loss: 7.1658e-06 - accuracy: 1.0000 - val_loss: 1.4147 - val_accuracy: 0.8618\n",
            "Epoch 78/100\n",
            "165/165 [==============================] - 1s 5ms/step - loss: 6.0636e-06 - accuracy: 1.0000 - val_loss: 1.4236 - val_accuracy: 0.8626\n",
            "Epoch 79/100\n",
            "165/165 [==============================] - 1s 5ms/step - loss: 6.1754e-06 - accuracy: 1.0000 - val_loss: 1.4322 - val_accuracy: 0.8622\n",
            "Epoch 80/100\n",
            "165/165 [==============================] - 1s 5ms/step - loss: 5.0224e-06 - accuracy: 1.0000 - val_loss: 1.4401 - val_accuracy: 0.8631\n",
            "Epoch 81/100\n",
            "165/165 [==============================] - 1s 5ms/step - loss: 4.9672e-06 - accuracy: 1.0000 - val_loss: 1.4500 - val_accuracy: 0.8631\n",
            "Epoch 82/100\n",
            "165/165 [==============================] - 1s 5ms/step - loss: 4.2684e-06 - accuracy: 1.0000 - val_loss: 1.4582 - val_accuracy: 0.8622\n",
            "Epoch 83/100\n",
            "165/165 [==============================] - 1s 5ms/step - loss: 4.0120e-06 - accuracy: 1.0000 - val_loss: 1.4676 - val_accuracy: 0.8631\n",
            "Epoch 84/100\n",
            "165/165 [==============================] - 1s 5ms/step - loss: 3.6385e-06 - accuracy: 1.0000 - val_loss: 1.4775 - val_accuracy: 0.8626\n",
            "Epoch 85/100\n",
            "165/165 [==============================] - 1s 5ms/step - loss: 3.2638e-06 - accuracy: 1.0000 - val_loss: 1.4854 - val_accuracy: 0.8631\n",
            "Epoch 86/100\n",
            "165/165 [==============================] - 1s 5ms/step - loss: 3.1118e-06 - accuracy: 1.0000 - val_loss: 1.4941 - val_accuracy: 0.8631\n",
            "Epoch 87/100\n",
            "165/165 [==============================] - 1s 5ms/step - loss: 2.7661e-06 - accuracy: 1.0000 - val_loss: 1.5029 - val_accuracy: 0.8631\n",
            "Epoch 88/100\n",
            "165/165 [==============================] - 1s 5ms/step - loss: 2.7275e-06 - accuracy: 1.0000 - val_loss: 1.5111 - val_accuracy: 0.8631\n",
            "Epoch 89/100\n",
            "165/165 [==============================] - 1s 5ms/step - loss: 2.4901e-06 - accuracy: 1.0000 - val_loss: 1.5219 - val_accuracy: 0.8622\n",
            "Epoch 90/100\n",
            "165/165 [==============================] - 1s 5ms/step - loss: 2.0920e-06 - accuracy: 1.0000 - val_loss: 1.5287 - val_accuracy: 0.8631\n",
            "Epoch 91/100\n",
            "165/165 [==============================] - 1s 5ms/step - loss: 2.0230e-06 - accuracy: 1.0000 - val_loss: 1.5388 - val_accuracy: 0.8631\n",
            "Epoch 92/100\n",
            "165/165 [==============================] - 1s 5ms/step - loss: 1.8766e-06 - accuracy: 1.0000 - val_loss: 1.5472 - val_accuracy: 0.8631\n",
            "Epoch 93/100\n",
            "165/165 [==============================] - 1s 5ms/step - loss: 1.9289e-06 - accuracy: 1.0000 - val_loss: 1.5572 - val_accuracy: 0.8631\n",
            "Epoch 94/100\n",
            "165/165 [==============================] - 1s 5ms/step - loss: 1.5550e-06 - accuracy: 1.0000 - val_loss: 1.5660 - val_accuracy: 0.8635\n",
            "Epoch 95/100\n",
            "165/165 [==============================] - 1s 5ms/step - loss: 1.7024e-06 - accuracy: 1.0000 - val_loss: 1.5756 - val_accuracy: 0.8626\n",
            "Epoch 96/100\n",
            "165/165 [==============================] - 1s 5ms/step - loss: 1.1954e-06 - accuracy: 1.0000 - val_loss: 1.5852 - val_accuracy: 0.8626\n",
            "Epoch 97/100\n",
            "165/165 [==============================] - 1s 5ms/step - loss: 1.3295e-06 - accuracy: 1.0000 - val_loss: 1.5939 - val_accuracy: 0.8622\n",
            "Epoch 98/100\n",
            "165/165 [==============================] - 1s 5ms/step - loss: 1.1926e-06 - accuracy: 1.0000 - val_loss: 1.6045 - val_accuracy: 0.8622\n",
            "Epoch 99/100\n",
            "165/165 [==============================] - 1s 5ms/step - loss: 1.0402e-06 - accuracy: 1.0000 - val_loss: 1.6107 - val_accuracy: 0.8631\n",
            "Epoch 100/100\n",
            "165/165 [==============================] - 1s 5ms/step - loss: 1.0005e-06 - accuracy: 1.0000 - val_loss: 1.6204 - val_accuracy: 0.8631\n"
          ],
          "name": "stdout"
        }
      ]
    },
    {
      "cell_type": "code",
      "metadata": {
        "colab": {
          "base_uri": "https://localhost:8080/"
        },
        "id": "uw0qq5b1WGPz",
        "outputId": "481cdd9a-e1dc-4b37-8d33-a9f5136ef8fd"
      },
      "source": [
        "model.evaluate(x_valid, y_valid)"
      ],
      "execution_count": 195,
      "outputs": [
        {
          "output_type": "stream",
          "text": [
            "71/71 [==============================] - 0s 2ms/step - loss: 1.6204 - accuracy: 0.8631\n"
          ],
          "name": "stdout"
        },
        {
          "output_type": "execute_result",
          "data": {
            "text/plain": [
              "[1.6203906536102295, 0.8630926012992859]"
            ]
          },
          "metadata": {
            "tags": []
          },
          "execution_count": 195
        }
      ]
    },
    {
      "cell_type": "code",
      "metadata": {
        "colab": {
          "base_uri": "https://localhost:8080/",
          "height": 350
        },
        "id": "oXAr7ofLEwaK",
        "outputId": "63423f35-019c-4d6b-c673-f67a504ae072"
      },
      "source": [
        "# Plot training & validation accuracy values\n",
        "plt.style.use(['dark_background'])\n",
        "fig, ax = plt.subplots(figsize=(10, 5))\n",
        "plt.plot(history.history['accuracy'])\n",
        "plt.plot(history.history['val_accuracy'])\n",
        "plt.title('Model accuracy')\n",
        "plt.ylabel('Accuracy')\n",
        "plt.xlabel('Epoch')\n",
        "plt.legend(['Train', 'Test'], loc='upper left')\n",
        "plt.show()"
      ],
      "execution_count": 96,
      "outputs": [
        {
          "output_type": "display_data",
          "data": {
            "image/png": "[encoded data removed]",
            "text/plain": [
              "<Figure size 720x360 with 1 Axes>"
            ]
          },
          "metadata": {
            "tags": []
          }
        }
      ]
    },
    {
      "cell_type": "code",
      "metadata": {
        "id": "vJceM2fORWPW"
      },
      "source": [
        ""
      ],
      "execution_count": null,
      "outputs": []
    },
    {
      "cell_type": "markdown",
      "metadata": {
        "id": "UW0c98a3RWjc"
      },
      "source": [
        ""
      ]
    },
    {
      "cell_type": "code",
      "metadata": {
        "id": "jqSzck2aRX-n"
      },
      "source": [
        ""
      ],
      "execution_count": null,
      "outputs": []
    },
    {
      "cell_type": "code",
      "metadata": {
        "id": "mIfEGYobRlDY"
      },
      "source": [
        ""
      ],
      "execution_count": null,
      "outputs": []
    },
    {
      "cell_type": "code",
      "metadata": {
        "id": "By6SD9OwR4V3"
      },
      "source": [
        ""
      ],
      "execution_count": null,
      "outputs": []
    },
    {
      "cell_type": "markdown",
      "metadata": {
        "id": "wqeTcozXRvc1"
      },
      "source": [
        "## Метод 3. Метод опорных векторов"
      ]
    },
    {
      "cell_type": "code",
      "metadata": {
        "id": "RGyj4_rwR2rY"
      },
      "source": [
        ""
      ],
      "execution_count": null,
      "outputs": []
    },
    {
      "cell_type": "code",
      "metadata": {
        "id": "IHm6uxPJR4_w"
      },
      "source": [
        ""
      ],
      "execution_count": null,
      "outputs": []
    }
  ]
}